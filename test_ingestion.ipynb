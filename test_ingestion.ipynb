{
  "cells": [
    {
      "cell_type": "markdown",
      "id": "supreme-paris",
      "metadata": {
        "id": "supreme-paris"
      },
      "source": [
        "![image.png](attachment:image.png)\n",
        "\n",
        "\n",
        "## Task:\n",
        "\n",
        "* Take any csv/text file of 2+ GB of your choice. --- (You can do this assignment on Google colab)\n",
        "\n",
        "* Read the file ( Present approach of reading the file )\n",
        "\n",
        "* Try different methods of file reading eg: Dask, Modin, Ray, pandas and present your findings in term of computational     efficiency\n",
        "\n",
        "* Perform basic validation on data columns : eg: remove special character , white spaces from the col name\n",
        "\n",
        "* As you already know the schema hence create a YAML file and write the column name in YAML file. --define separator of   \n",
        "  read and write file, column name in YAML\n",
        "\n",
        "* Validate number of columns and column name of ingested file with YAML.\n",
        "\n",
        "* Write the file in pipe separated text file (|) in gz format.\n",
        "\n",
        "* Create a summary of the file:\n",
        "\n",
        "    Total number of rows,\n",
        "\n",
        "    total number of columns\n",
        "\n",
        "    file size\n",
        "    \n",
        "# Data Ingestion sample code walkthrough\n",
        "\n",
        "## \n",
        "  > Create a utility file\n",
        "  \n",
        "  > Config file creation\n",
        "  \n",
        "  > Data ingestion pipeline\n"
      ]
    },
    {
      "cell_type": "code",
      "execution_count": 1,
      "id": "closing-thailand",
      "metadata": {
        "colab": {
          "base_uri": "https://localhost:8080/"
        },
        "id": "closing-thailand",
        "outputId": "81fd07bf-a79d-44ae-95ca-5dac3f04c645"
      },
      "outputs": [
        {
          "output_type": "stream",
          "name": "stdout",
          "text": [
            "Writing testutility.py\n"
          ]
        }
      ],
      "source": [
        "%%writefile testutility.py\n",
        "import logging\n",
        "import os\n",
        "import subprocess\n",
        "import yaml\n",
        "import pandas as pd\n",
        "import datetime \n",
        "import gc\n",
        "import re\n",
        "\n",
        "\n",
        "################\n",
        "# File Reading #\n",
        "################\n",
        "\n",
        "def read_config_file(filepath):\n",
        "    with open(filepath, 'r') as stream:\n",
        "        try:\n",
        "            return yaml.safe_load(stream)\n",
        "        except yaml.YAMLError as exc:\n",
        "            logging.error(exc)\n",
        "\n",
        "\n",
        "def replacer(string, char):\n",
        "    pattern = char + '{2,}'\n",
        "    string = re.sub(pattern, char, string) \n",
        "    return string\n",
        "\n",
        "def col_header_val(df,table_config):\n",
        "    '''\n",
        "    replace whitespaces in the column\n",
        "    and standardized column names\n",
        "    '''\n",
        "    df.columns = df.columns.str.lower()\n",
        "    df.columns = df.columns.str.replace('[^\\w]','_',regex=True)\n",
        "    df.columns = list(map(lambda x: x.strip('_'), list(df.columns)))\n",
        "    df.columns = list(map(lambda x: replacer(x,'_'), list(df.columns)))\n",
        "    expected_col = list(map(lambda x: x.lower(),  table_config['columns']))\n",
        "    expected_col.sort()\n",
        "    df.columns =list(map(lambda x: x.lower(), list(df.columns)))\n",
        "    df = df.reindex(sorted(df.columns), axis=1)\n",
        "    if len(df.columns) == len(expected_col) and list(expected_col)  == list(df.columns):\n",
        "        print(\"column name and column length validation passed\")\n",
        "        return 1\n",
        "    else:\n",
        "        print(\"column name and column length validation failed\")\n",
        "        mismatched_columns_file = list(set(df.columns).difference(expected_col))\n",
        "        print(\"Following File columns are not in the YAML file\",mismatched_columns_file)\n",
        "        missing_YAML_file = list(set(expected_col).difference(df.columns))\n",
        "        print(\"Following YAML columns are not in the file uploaded\",missing_YAML_file)\n",
        "        logging.info(f'df columns: {df.columns}')\n",
        "        logging.info(f'expected columns: {expected_col}')\n",
        "        return 0"
      ]
    },
    {
      "cell_type": "markdown",
      "id": "dense-transaction",
      "metadata": {
        "id": "dense-transaction"
      },
      "source": [
        "### Write YAML file"
      ]
    },
    {
      "cell_type": "code",
      "execution_count": 2,
      "id": "running-raleigh",
      "metadata": {
        "colab": {
          "base_uri": "https://localhost:8080/"
        },
        "id": "running-raleigh",
        "outputId": "d9e1fe8a-7e34-411b-876f-461475f979b4"
      },
      "outputs": [
        {
          "output_type": "stream",
          "name": "stdout",
          "text": [
            "Writing file.yaml\n"
          ]
        }
      ],
      "source": [
        "%%writefile file.yaml\n",
        "file_type: csv\n",
        "dataset_name: testfile\n",
        "file_name: test_data\n",
        "table_name: edsurv\n",
        "inbound_delimiter: \";\"\n",
        "outbound_delimiter: \"|\"\n",
        "skip_leading_rows: 1\n",
        "columns: \n",
        "    - Period\n",
        "    - Data\n",
        "    - Magnitude\n",
        "    - Subject\n",
        "    - Group\n",
        "    - Series"
      ]
    },
    {
      "cell_type": "code",
      "execution_count": 3,
      "id": "tribal-withdrawal",
      "metadata": {
        "id": "tribal-withdrawal"
      },
      "outputs": [],
      "source": [
        "# Read config file\n",
        "import testutility as util\n",
        "config_data = util.read_config_file(\"file.yaml\")"
      ]
    },
    {
      "cell_type": "code",
      "execution_count": 4,
      "id": "looking-recording",
      "metadata": {
        "colab": {
          "base_uri": "https://localhost:8080/",
          "height": 35
        },
        "id": "looking-recording",
        "outputId": "4ce6ac25-8381-4a4c-be53-de084959a003"
      },
      "outputs": [
        {
          "output_type": "execute_result",
          "data": {
            "text/plain": [
              "';'"
            ],
            "application/vnd.google.colaboratory.intrinsic+json": {
              "type": "string"
            }
          },
          "metadata": {},
          "execution_count": 4
        }
      ],
      "source": [
        "config_data['inbound_delimiter']"
      ]
    },
    {
      "cell_type": "code",
      "execution_count": 5,
      "id": "suited-architecture",
      "metadata": {
        "colab": {
          "base_uri": "https://localhost:8080/"
        },
        "id": "suited-architecture",
        "outputId": "12020e8d-c7f0-468b-85bf-663e4c74ca74"
      },
      "outputs": [
        {
          "output_type": "execute_result",
          "data": {
            "text/plain": [
              "{'file_type': 'csv',\n",
              " 'dataset_name': 'testfile',\n",
              " 'file_name': 'test_data',\n",
              " 'table_name': 'edsurv',\n",
              " 'inbound_delimiter': ';',\n",
              " 'outbound_delimiter': '|',\n",
              " 'skip_leading_rows': 1,\n",
              " 'columns': ['Period', 'Data', 'Magnitude', 'Subject', 'Group', 'Series']}"
            ]
          },
          "metadata": {},
          "execution_count": 5
        }
      ],
      "source": [
        "#inspecting data of config file\n",
        "config_data"
      ]
    },
    {
      "cell_type": "code",
      "execution_count": 6,
      "id": "detailed-indonesian",
      "metadata": {
        "colab": {
          "base_uri": "https://localhost:8080/",
          "height": 204
        },
        "id": "detailed-indonesian",
        "outputId": "77503891-5993-41f3-a478-de536c3457c2"
      },
      "outputs": [
        {
          "output_type": "execute_result",
          "data": {
            "text/plain": [
              "    Period     Data  Magnitude                                        Subject  \\\n",
              "0  2001.03   2462.5          6  Electronic Card Transactions (ANZSIC06) - ECT   \n",
              "1  2002.03  17177.2          6  Electronic Card Transactions (ANZSIC06) - ECT   \n",
              "2  2003.03  22530.5          6  Electronic Card Transactions (ANZSIC06) - ECT   \n",
              "3  2004.03  28005.1          6  Electronic Card Transactions (ANZSIC06) - ECT   \n",
              "4  2005.03  30629.6          6  Electronic Card Transactions (ANZSIC06) - ECT   \n",
              "\n",
              "                                               Group  Series  \n",
              "0  Total values - Electronic card transactions A/...  Actual  \n",
              "1  Total values - Electronic card transactions A/...  Actual  \n",
              "2  Total values - Electronic card transactions A/...  Actual  \n",
              "3  Total values - Electronic card transactions A/...  Actual  \n",
              "4  Total values - Electronic card transactions A/...  Actual  "
            ],
            "text/html": [
              "\n",
              "  <div id=\"df-149119cc-5579-41e3-a9fe-2f289f0c0b56\">\n",
              "    <div class=\"colab-df-container\">\n",
              "      <div>\n",
              "<style scoped>\n",
              "    .dataframe tbody tr th:only-of-type {\n",
              "        vertical-align: middle;\n",
              "    }\n",
              "\n",
              "    .dataframe tbody tr th {\n",
              "        vertical-align: top;\n",
              "    }\n",
              "\n",
              "    .dataframe thead th {\n",
              "        text-align: right;\n",
              "    }\n",
              "</style>\n",
              "<table border=\"1\" class=\"dataframe\">\n",
              "  <thead>\n",
              "    <tr style=\"text-align: right;\">\n",
              "      <th></th>\n",
              "      <th>Period</th>\n",
              "      <th>Data</th>\n",
              "      <th>Magnitude</th>\n",
              "      <th>Subject</th>\n",
              "      <th>Group</th>\n",
              "      <th>Series</th>\n",
              "    </tr>\n",
              "  </thead>\n",
              "  <tbody>\n",
              "    <tr>\n",
              "      <th>0</th>\n",
              "      <td>2001.03</td>\n",
              "      <td>2462.5</td>\n",
              "      <td>6</td>\n",
              "      <td>Electronic Card Transactions (ANZSIC06) - ECT</td>\n",
              "      <td>Total values - Electronic card transactions A/...</td>\n",
              "      <td>Actual</td>\n",
              "    </tr>\n",
              "    <tr>\n",
              "      <th>1</th>\n",
              "      <td>2002.03</td>\n",
              "      <td>17177.2</td>\n",
              "      <td>6</td>\n",
              "      <td>Electronic Card Transactions (ANZSIC06) - ECT</td>\n",
              "      <td>Total values - Electronic card transactions A/...</td>\n",
              "      <td>Actual</td>\n",
              "    </tr>\n",
              "    <tr>\n",
              "      <th>2</th>\n",
              "      <td>2003.03</td>\n",
              "      <td>22530.5</td>\n",
              "      <td>6</td>\n",
              "      <td>Electronic Card Transactions (ANZSIC06) - ECT</td>\n",
              "      <td>Total values - Electronic card transactions A/...</td>\n",
              "      <td>Actual</td>\n",
              "    </tr>\n",
              "    <tr>\n",
              "      <th>3</th>\n",
              "      <td>2004.03</td>\n",
              "      <td>28005.1</td>\n",
              "      <td>6</td>\n",
              "      <td>Electronic Card Transactions (ANZSIC06) - ECT</td>\n",
              "      <td>Total values - Electronic card transactions A/...</td>\n",
              "      <td>Actual</td>\n",
              "    </tr>\n",
              "    <tr>\n",
              "      <th>4</th>\n",
              "      <td>2005.03</td>\n",
              "      <td>30629.6</td>\n",
              "      <td>6</td>\n",
              "      <td>Electronic Card Transactions (ANZSIC06) - ECT</td>\n",
              "      <td>Total values - Electronic card transactions A/...</td>\n",
              "      <td>Actual</td>\n",
              "    </tr>\n",
              "  </tbody>\n",
              "</table>\n",
              "</div>\n",
              "      <button class=\"colab-df-convert\" onclick=\"convertToInteractive('df-149119cc-5579-41e3-a9fe-2f289f0c0b56')\"\n",
              "              title=\"Convert this dataframe to an interactive table.\"\n",
              "              style=\"display:none;\">\n",
              "        \n",
              "  <svg xmlns=\"http://www.w3.org/2000/svg\" height=\"24px\"viewBox=\"0 0 24 24\"\n",
              "       width=\"24px\">\n",
              "    <path d=\"M0 0h24v24H0V0z\" fill=\"none\"/>\n",
              "    <path d=\"M18.56 5.44l.94 2.06.94-2.06 2.06-.94-2.06-.94-.94-2.06-.94 2.06-2.06.94zm-11 1L8.5 8.5l.94-2.06 2.06-.94-2.06-.94L8.5 2.5l-.94 2.06-2.06.94zm10 10l.94 2.06.94-2.06 2.06-.94-2.06-.94-.94-2.06-.94 2.06-2.06.94z\"/><path d=\"M17.41 7.96l-1.37-1.37c-.4-.4-.92-.59-1.43-.59-.52 0-1.04.2-1.43.59L10.3 9.45l-7.72 7.72c-.78.78-.78 2.05 0 2.83L4 21.41c.39.39.9.59 1.41.59.51 0 1.02-.2 1.41-.59l7.78-7.78 2.81-2.81c.8-.78.8-2.07 0-2.86zM5.41 20L4 18.59l7.72-7.72 1.47 1.35L5.41 20z\"/>\n",
              "  </svg>\n",
              "      </button>\n",
              "      \n",
              "  <style>\n",
              "    .colab-df-container {\n",
              "      display:flex;\n",
              "      flex-wrap:wrap;\n",
              "      gap: 12px;\n",
              "    }\n",
              "\n",
              "    .colab-df-convert {\n",
              "      background-color: #E8F0FE;\n",
              "      border: none;\n",
              "      border-radius: 50%;\n",
              "      cursor: pointer;\n",
              "      display: none;\n",
              "      fill: #1967D2;\n",
              "      height: 32px;\n",
              "      padding: 0 0 0 0;\n",
              "      width: 32px;\n",
              "    }\n",
              "\n",
              "    .colab-df-convert:hover {\n",
              "      background-color: #E2EBFA;\n",
              "      box-shadow: 0px 1px 2px rgba(60, 64, 67, 0.3), 0px 1px 3px 1px rgba(60, 64, 67, 0.15);\n",
              "      fill: #174EA6;\n",
              "    }\n",
              "\n",
              "    [theme=dark] .colab-df-convert {\n",
              "      background-color: #3B4455;\n",
              "      fill: #D2E3FC;\n",
              "    }\n",
              "\n",
              "    [theme=dark] .colab-df-convert:hover {\n",
              "      background-color: #434B5C;\n",
              "      box-shadow: 0px 1px 3px 1px rgba(0, 0, 0, 0.15);\n",
              "      filter: drop-shadow(0px 1px 2px rgba(0, 0, 0, 0.3));\n",
              "      fill: #FFFFFF;\n",
              "    }\n",
              "  </style>\n",
              "\n",
              "      <script>\n",
              "        const buttonEl =\n",
              "          document.querySelector('#df-149119cc-5579-41e3-a9fe-2f289f0c0b56 button.colab-df-convert');\n",
              "        buttonEl.style.display =\n",
              "          google.colab.kernel.accessAllowed ? 'block' : 'none';\n",
              "\n",
              "        async function convertToInteractive(key) {\n",
              "          const element = document.querySelector('#df-149119cc-5579-41e3-a9fe-2f289f0c0b56');\n",
              "          const dataTable =\n",
              "            await google.colab.kernel.invokeFunction('convertToInteractive',\n",
              "                                                     [key], {});\n",
              "          if (!dataTable) return;\n",
              "\n",
              "          const docLinkHtml = 'Like what you see? Visit the ' +\n",
              "            '<a target=\"_blank\" href=https://colab.research.google.com/notebooks/data_table.ipynb>data table notebook</a>'\n",
              "            + ' to learn more about interactive tables.';\n",
              "          element.innerHTML = '';\n",
              "          dataTable['output_type'] = 'display_data';\n",
              "          await google.colab.output.renderOutput(dataTable, element);\n",
              "          const docLink = document.createElement('div');\n",
              "          docLink.innerHTML = docLinkHtml;\n",
              "          element.appendChild(docLink);\n",
              "        }\n",
              "      </script>\n",
              "    </div>\n",
              "  </div>\n",
              "  "
            ]
          },
          "metadata": {},
          "execution_count": 6
        }
      ],
      "source": [
        "# Normal reading process of the file\n",
        "import pandas as pd\n",
        "df_sample = pd.read_csv(\"test_data.csv\",delimiter=';')\n",
        "df_sample.head()"
      ]
    },
    {
      "cell_type": "code",
      "execution_count": 7,
      "id": "young-cherry",
      "metadata": {
        "colab": {
          "base_uri": "https://localhost:8080/",
          "height": 258
        },
        "id": "young-cherry",
        "outputId": "774efd83-18e1-4849-f181-e70697afddaf"
      },
      "outputs": [
        {
          "output_type": "stream",
          "name": "stderr",
          "text": [
            "/usr/local/lib/python3.8/dist-packages/IPython/core/interactiveshell.py:3326: FutureWarning: In a future version of pandas all arguments of read_csv except for the argument 'filepath_or_buffer' will be keyword-only\n",
            "  exec(code_obj, self.user_global_ns, self.user_ns)\n"
          ]
        },
        {
          "output_type": "execute_result",
          "data": {
            "text/plain": [
              "    Period     Data  Magnitude                                        Subject  \\\n",
              "0  2001.03   2462.5          6  Electronic Card Transactions (ANZSIC06) - ECT   \n",
              "1  2002.03  17177.2          6  Electronic Card Transactions (ANZSIC06) - ECT   \n",
              "2  2003.03  22530.5          6  Electronic Card Transactions (ANZSIC06) - ECT   \n",
              "3  2004.03  28005.1          6  Electronic Card Transactions (ANZSIC06) - ECT   \n",
              "4  2005.03  30629.6          6  Electronic Card Transactions (ANZSIC06) - ECT   \n",
              "\n",
              "                                               Group  Series  \n",
              "0  Total values - Electronic card transactions A/...  Actual  \n",
              "1  Total values - Electronic card transactions A/...  Actual  \n",
              "2  Total values - Electronic card transactions A/...  Actual  \n",
              "3  Total values - Electronic card transactions A/...  Actual  \n",
              "4  Total values - Electronic card transactions A/...  Actual  "
            ],
            "text/html": [
              "\n",
              "  <div id=\"df-2b799b77-7d6b-467e-aac0-73aaccc16376\">\n",
              "    <div class=\"colab-df-container\">\n",
              "      <div>\n",
              "<style scoped>\n",
              "    .dataframe tbody tr th:only-of-type {\n",
              "        vertical-align: middle;\n",
              "    }\n",
              "\n",
              "    .dataframe tbody tr th {\n",
              "        vertical-align: top;\n",
              "    }\n",
              "\n",
              "    .dataframe thead th {\n",
              "        text-align: right;\n",
              "    }\n",
              "</style>\n",
              "<table border=\"1\" class=\"dataframe\">\n",
              "  <thead>\n",
              "    <tr style=\"text-align: right;\">\n",
              "      <th></th>\n",
              "      <th>Period</th>\n",
              "      <th>Data</th>\n",
              "      <th>Magnitude</th>\n",
              "      <th>Subject</th>\n",
              "      <th>Group</th>\n",
              "      <th>Series</th>\n",
              "    </tr>\n",
              "  </thead>\n",
              "  <tbody>\n",
              "    <tr>\n",
              "      <th>0</th>\n",
              "      <td>2001.03</td>\n",
              "      <td>2462.5</td>\n",
              "      <td>6</td>\n",
              "      <td>Electronic Card Transactions (ANZSIC06) - ECT</td>\n",
              "      <td>Total values - Electronic card transactions A/...</td>\n",
              "      <td>Actual</td>\n",
              "    </tr>\n",
              "    <tr>\n",
              "      <th>1</th>\n",
              "      <td>2002.03</td>\n",
              "      <td>17177.2</td>\n",
              "      <td>6</td>\n",
              "      <td>Electronic Card Transactions (ANZSIC06) - ECT</td>\n",
              "      <td>Total values - Electronic card transactions A/...</td>\n",
              "      <td>Actual</td>\n",
              "    </tr>\n",
              "    <tr>\n",
              "      <th>2</th>\n",
              "      <td>2003.03</td>\n",
              "      <td>22530.5</td>\n",
              "      <td>6</td>\n",
              "      <td>Electronic Card Transactions (ANZSIC06) - ECT</td>\n",
              "      <td>Total values - Electronic card transactions A/...</td>\n",
              "      <td>Actual</td>\n",
              "    </tr>\n",
              "    <tr>\n",
              "      <th>3</th>\n",
              "      <td>2004.03</td>\n",
              "      <td>28005.1</td>\n",
              "      <td>6</td>\n",
              "      <td>Electronic Card Transactions (ANZSIC06) - ECT</td>\n",
              "      <td>Total values - Electronic card transactions A/...</td>\n",
              "      <td>Actual</td>\n",
              "    </tr>\n",
              "    <tr>\n",
              "      <th>4</th>\n",
              "      <td>2005.03</td>\n",
              "      <td>30629.6</td>\n",
              "      <td>6</td>\n",
              "      <td>Electronic Card Transactions (ANZSIC06) - ECT</td>\n",
              "      <td>Total values - Electronic card transactions A/...</td>\n",
              "      <td>Actual</td>\n",
              "    </tr>\n",
              "  </tbody>\n",
              "</table>\n",
              "</div>\n",
              "      <button class=\"colab-df-convert\" onclick=\"convertToInteractive('df-2b799b77-7d6b-467e-aac0-73aaccc16376')\"\n",
              "              title=\"Convert this dataframe to an interactive table.\"\n",
              "              style=\"display:none;\">\n",
              "        \n",
              "  <svg xmlns=\"http://www.w3.org/2000/svg\" height=\"24px\"viewBox=\"0 0 24 24\"\n",
              "       width=\"24px\">\n",
              "    <path d=\"M0 0h24v24H0V0z\" fill=\"none\"/>\n",
              "    <path d=\"M18.56 5.44l.94 2.06.94-2.06 2.06-.94-2.06-.94-.94-2.06-.94 2.06-2.06.94zm-11 1L8.5 8.5l.94-2.06 2.06-.94-2.06-.94L8.5 2.5l-.94 2.06-2.06.94zm10 10l.94 2.06.94-2.06 2.06-.94-2.06-.94-.94-2.06-.94 2.06-2.06.94z\"/><path d=\"M17.41 7.96l-1.37-1.37c-.4-.4-.92-.59-1.43-.59-.52 0-1.04.2-1.43.59L10.3 9.45l-7.72 7.72c-.78.78-.78 2.05 0 2.83L4 21.41c.39.39.9.59 1.41.59.51 0 1.02-.2 1.41-.59l7.78-7.78 2.81-2.81c.8-.78.8-2.07 0-2.86zM5.41 20L4 18.59l7.72-7.72 1.47 1.35L5.41 20z\"/>\n",
              "  </svg>\n",
              "      </button>\n",
              "      \n",
              "  <style>\n",
              "    .colab-df-container {\n",
              "      display:flex;\n",
              "      flex-wrap:wrap;\n",
              "      gap: 12px;\n",
              "    }\n",
              "\n",
              "    .colab-df-convert {\n",
              "      background-color: #E8F0FE;\n",
              "      border: none;\n",
              "      border-radius: 50%;\n",
              "      cursor: pointer;\n",
              "      display: none;\n",
              "      fill: #1967D2;\n",
              "      height: 32px;\n",
              "      padding: 0 0 0 0;\n",
              "      width: 32px;\n",
              "    }\n",
              "\n",
              "    .colab-df-convert:hover {\n",
              "      background-color: #E2EBFA;\n",
              "      box-shadow: 0px 1px 2px rgba(60, 64, 67, 0.3), 0px 1px 3px 1px rgba(60, 64, 67, 0.15);\n",
              "      fill: #174EA6;\n",
              "    }\n",
              "\n",
              "    [theme=dark] .colab-df-convert {\n",
              "      background-color: #3B4455;\n",
              "      fill: #D2E3FC;\n",
              "    }\n",
              "\n",
              "    [theme=dark] .colab-df-convert:hover {\n",
              "      background-color: #434B5C;\n",
              "      box-shadow: 0px 1px 3px 1px rgba(0, 0, 0, 0.15);\n",
              "      filter: drop-shadow(0px 1px 2px rgba(0, 0, 0, 0.3));\n",
              "      fill: #FFFFFF;\n",
              "    }\n",
              "  </style>\n",
              "\n",
              "      <script>\n",
              "        const buttonEl =\n",
              "          document.querySelector('#df-2b799b77-7d6b-467e-aac0-73aaccc16376 button.colab-df-convert');\n",
              "        buttonEl.style.display =\n",
              "          google.colab.kernel.accessAllowed ? 'block' : 'none';\n",
              "\n",
              "        async function convertToInteractive(key) {\n",
              "          const element = document.querySelector('#df-2b799b77-7d6b-467e-aac0-73aaccc16376');\n",
              "          const dataTable =\n",
              "            await google.colab.kernel.invokeFunction('convertToInteractive',\n",
              "                                                     [key], {});\n",
              "          if (!dataTable) return;\n",
              "\n",
              "          const docLinkHtml = 'Like what you see? Visit the ' +\n",
              "            '<a target=\"_blank\" href=https://colab.research.google.com/notebooks/data_table.ipynb>data table notebook</a>'\n",
              "            + ' to learn more about interactive tables.';\n",
              "          element.innerHTML = '';\n",
              "          dataTable['output_type'] = 'display_data';\n",
              "          await google.colab.output.renderOutput(dataTable, element);\n",
              "          const docLink = document.createElement('div');\n",
              "          docLink.innerHTML = docLinkHtml;\n",
              "          element.appendChild(docLink);\n",
              "        }\n",
              "      </script>\n",
              "    </div>\n",
              "  </div>\n",
              "  "
            ]
          },
          "metadata": {},
          "execution_count": 7
        }
      ],
      "source": [
        "# read the file using config file\n",
        "file_type = config_data['file_type']\n",
        "source_file = \"./\" + config_data['file_name'] + f'.{file_type}'\n",
        "#print(\"\",source_file)\n",
        "df = pd.read_csv(source_file,config_data['inbound_delimiter'])\n",
        "df.head()"
      ]
    },
    {
      "cell_type": "code",
      "source": [
        "df.info()"
      ],
      "metadata": {
        "colab": {
          "base_uri": "https://localhost:8080/"
        },
        "id": "L5panOtgxAlL",
        "outputId": "0895f077-deac-4d2a-e490-cda7ef20ac41"
      },
      "id": "L5panOtgxAlL",
      "execution_count": 8,
      "outputs": [
        {
          "output_type": "stream",
          "name": "stdout",
          "text": [
            "<class 'pandas.core.frame.DataFrame'>\n",
            "RangeIndex: 19235 entries, 0 to 19234\n",
            "Data columns (total 6 columns):\n",
            " #   Column     Non-Null Count  Dtype  \n",
            "---  ------     --------------  -----  \n",
            " 0   Period     19235 non-null  float64\n",
            " 1   Data       17470 non-null  float64\n",
            " 2   Magnitude  19235 non-null  int64  \n",
            " 3   Subject    19235 non-null  object \n",
            " 4   Group      19235 non-null  object \n",
            " 5   Series     19235 non-null  object \n",
            "dtypes: float64(2), int64(1), object(3)\n",
            "memory usage: 901.8+ KB\n"
          ]
        }
      ]
    },
    {
      "cell_type": "code",
      "execution_count": 9,
      "id": "polar-interaction",
      "metadata": {
        "colab": {
          "base_uri": "https://localhost:8080/"
        },
        "id": "polar-interaction",
        "outputId": "dda5bfa0-a162-416e-eb58-00c5d4c93051"
      },
      "outputs": [
        {
          "output_type": "stream",
          "name": "stdout",
          "text": [
            "column name and column length validation passed\n"
          ]
        },
        {
          "output_type": "execute_result",
          "data": {
            "text/plain": [
              "1"
            ]
          },
          "metadata": {},
          "execution_count": 9
        }
      ],
      "source": [
        "#validate the header of the file\n",
        "util.col_header_val(df,config_data)"
      ]
    },
    {
      "cell_type": "code",
      "execution_count": 10,
      "id": "abstract-blocking",
      "metadata": {
        "colab": {
          "base_uri": "https://localhost:8080/"
        },
        "id": "abstract-blocking",
        "outputId": "679370db-e00c-4364-c232-4c6b6aca8e2a"
      },
      "outputs": [
        {
          "output_type": "stream",
          "name": "stdout",
          "text": [
            "columns of files are: Index(['period', 'data', 'magnitude', 'subject', 'group', 'series'], dtype='object')\n",
            "columns of YAML are: ['Period', 'Data', 'Magnitude', 'Subject', 'Group', 'Series']\n"
          ]
        }
      ],
      "source": [
        "print(\"columns of files are:\" ,df.columns)\n",
        "print(\"columns of YAML are:\" ,config_data['columns'])"
      ]
    },
    {
      "cell_type": "code",
      "execution_count": 11,
      "id": "welcome-empty",
      "metadata": {
        "colab": {
          "base_uri": "https://localhost:8080/"
        },
        "id": "welcome-empty",
        "outputId": "6675340f-4066-4eb8-e26e-aa573f3718ef"
      },
      "outputs": [
        {
          "output_type": "stream",
          "name": "stdout",
          "text": [
            "column name and column length validation passed\n",
            "col validation passed\n"
          ]
        }
      ],
      "source": [
        "if util.col_header_val(df,config_data)==0:\n",
        "    print(\"validation failed\")\n",
        "    # write code to reject the file\n",
        "else:\n",
        "    print(\"col validation passed\")\n",
        "    # write the code to perform further action\n",
        "    # in the pipleine"
      ]
    },
    {
      "cell_type": "code",
      "source": [
        "df.columns"
      ],
      "metadata": {
        "colab": {
          "base_uri": "https://localhost:8080/"
        },
        "id": "CLfIZwzpxJC9",
        "outputId": "4099e96f-e447-4e6b-d74b-8e9be763beeb"
      },
      "id": "CLfIZwzpxJC9",
      "execution_count": 12,
      "outputs": [
        {
          "output_type": "execute_result",
          "data": {
            "text/plain": [
              "Index(['period', 'data', 'magnitude', 'subject', 'group', 'series'], dtype='object')"
            ]
          },
          "metadata": {},
          "execution_count": 12
        }
      ]
    },
    {
      "cell_type": "code",
      "source": [
        "import dask.dataframe as dd\n",
        "from pathlib import Path"
      ],
      "metadata": {
        "id": "Ukc1DGEIxOZc"
      },
      "id": "Ukc1DGEIxOZc",
      "execution_count": 13,
      "outputs": []
    },
    {
      "cell_type": "code",
      "source": [
        "%%time\n",
        "data = dd.read_csv(\"test_data.csv\")"
      ],
      "metadata": {
        "colab": {
          "base_uri": "https://localhost:8080/"
        },
        "id": "WMZc-mAhxSLe",
        "outputId": "fd29fd43-1acb-4bd0-fbaf-2f8fc2989399"
      },
      "id": "WMZc-mAhxSLe",
      "execution_count": 14,
      "outputs": [
        {
          "output_type": "stream",
          "name": "stdout",
          "text": [
            "CPU times: user 8.79 ms, sys: 3.89 ms, total: 12.7 ms\n",
            "Wall time: 30.6 ms\n"
          ]
        }
      ]
    },
    {
      "cell_type": "code",
      "execution_count": 15,
      "id": "multiple-stocks",
      "metadata": {
        "colab": {
          "base_uri": "https://localhost:8080/",
          "height": 419
        },
        "id": "multiple-stocks",
        "outputId": "b595776e-8199-4f26-a23f-0db316f17796"
      },
      "outputs": [
        {
          "output_type": "execute_result",
          "data": {
            "text/plain": [
              "        period     data  magnitude  \\\n",
              "0      2001.03   2462.5          6   \n",
              "1      2002.03  17177.2          6   \n",
              "2      2003.03  22530.5          6   \n",
              "3      2004.03  28005.1          6   \n",
              "4      2005.03  30629.6          6   \n",
              "...        ...      ...        ...   \n",
              "19230  2021.12     33.3          0   \n",
              "19231  2022.03     33.7          0   \n",
              "19232  2022.06     33.5          0   \n",
              "19233  2022.09     33.2          0   \n",
              "19234  2022.12     32.7          0   \n",
              "\n",
              "                                             subject  \\\n",
              "0      Electronic Card Transactions (ANZSIC06) - ECT   \n",
              "1      Electronic Card Transactions (ANZSIC06) - ECT   \n",
              "2      Electronic Card Transactions (ANZSIC06) - ECT   \n",
              "3      Electronic Card Transactions (ANZSIC06) - ECT   \n",
              "4      Electronic Card Transactions (ANZSIC06) - ECT   \n",
              "...                                              ...   \n",
              "19230  Electronic Card Transactions (ANZSIC06) - ECT   \n",
              "19231  Electronic Card Transactions (ANZSIC06) - ECT   \n",
              "19232  Electronic Card Transactions (ANZSIC06) - ECT   \n",
              "19233  Electronic Card Transactions (ANZSIC06) - ECT   \n",
              "19234  Electronic Card Transactions (ANZSIC06) - ECT   \n",
              "\n",
              "                                                   group  series  \n",
              "0      Total values - Electronic card transactions A/...  Actual  \n",
              "1      Total values - Electronic card transactions A/...  Actual  \n",
              "2      Total values - Electronic card transactions A/...  Actual  \n",
              "3      Total values - Electronic card transactions A/...  Actual  \n",
              "4      Total values - Electronic card transactions A/...  Actual  \n",
              "...                                                  ...     ...  \n",
              "19230  Electronic card transactions by mean and propo...  Actual  \n",
              "19231  Electronic card transactions by mean and propo...  Actual  \n",
              "19232  Electronic card transactions by mean and propo...  Actual  \n",
              "19233  Electronic card transactions by mean and propo...  Actual  \n",
              "19234  Electronic card transactions by mean and propo...  Actual  \n",
              "\n",
              "[19235 rows x 6 columns]"
            ],
            "text/html": [
              "\n",
              "  <div id=\"df-311e2138-f4fc-4d7c-8f53-d9bae6710480\">\n",
              "    <div class=\"colab-df-container\">\n",
              "      <div>\n",
              "<style scoped>\n",
              "    .dataframe tbody tr th:only-of-type {\n",
              "        vertical-align: middle;\n",
              "    }\n",
              "\n",
              "    .dataframe tbody tr th {\n",
              "        vertical-align: top;\n",
              "    }\n",
              "\n",
              "    .dataframe thead th {\n",
              "        text-align: right;\n",
              "    }\n",
              "</style>\n",
              "<table border=\"1\" class=\"dataframe\">\n",
              "  <thead>\n",
              "    <tr style=\"text-align: right;\">\n",
              "      <th></th>\n",
              "      <th>period</th>\n",
              "      <th>data</th>\n",
              "      <th>magnitude</th>\n",
              "      <th>subject</th>\n",
              "      <th>group</th>\n",
              "      <th>series</th>\n",
              "    </tr>\n",
              "  </thead>\n",
              "  <tbody>\n",
              "    <tr>\n",
              "      <th>0</th>\n",
              "      <td>2001.03</td>\n",
              "      <td>2462.5</td>\n",
              "      <td>6</td>\n",
              "      <td>Electronic Card Transactions (ANZSIC06) - ECT</td>\n",
              "      <td>Total values - Electronic card transactions A/...</td>\n",
              "      <td>Actual</td>\n",
              "    </tr>\n",
              "    <tr>\n",
              "      <th>1</th>\n",
              "      <td>2002.03</td>\n",
              "      <td>17177.2</td>\n",
              "      <td>6</td>\n",
              "      <td>Electronic Card Transactions (ANZSIC06) - ECT</td>\n",
              "      <td>Total values - Electronic card transactions A/...</td>\n",
              "      <td>Actual</td>\n",
              "    </tr>\n",
              "    <tr>\n",
              "      <th>2</th>\n",
              "      <td>2003.03</td>\n",
              "      <td>22530.5</td>\n",
              "      <td>6</td>\n",
              "      <td>Electronic Card Transactions (ANZSIC06) - ECT</td>\n",
              "      <td>Total values - Electronic card transactions A/...</td>\n",
              "      <td>Actual</td>\n",
              "    </tr>\n",
              "    <tr>\n",
              "      <th>3</th>\n",
              "      <td>2004.03</td>\n",
              "      <td>28005.1</td>\n",
              "      <td>6</td>\n",
              "      <td>Electronic Card Transactions (ANZSIC06) - ECT</td>\n",
              "      <td>Total values - Electronic card transactions A/...</td>\n",
              "      <td>Actual</td>\n",
              "    </tr>\n",
              "    <tr>\n",
              "      <th>4</th>\n",
              "      <td>2005.03</td>\n",
              "      <td>30629.6</td>\n",
              "      <td>6</td>\n",
              "      <td>Electronic Card Transactions (ANZSIC06) - ECT</td>\n",
              "      <td>Total values - Electronic card transactions A/...</td>\n",
              "      <td>Actual</td>\n",
              "    </tr>\n",
              "    <tr>\n",
              "      <th>...</th>\n",
              "      <td>...</td>\n",
              "      <td>...</td>\n",
              "      <td>...</td>\n",
              "      <td>...</td>\n",
              "      <td>...</td>\n",
              "      <td>...</td>\n",
              "    </tr>\n",
              "    <tr>\n",
              "      <th>19230</th>\n",
              "      <td>2021.12</td>\n",
              "      <td>33.3</td>\n",
              "      <td>0</td>\n",
              "      <td>Electronic Card Transactions (ANZSIC06) - ECT</td>\n",
              "      <td>Electronic card transactions by mean and propo...</td>\n",
              "      <td>Actual</td>\n",
              "    </tr>\n",
              "    <tr>\n",
              "      <th>19231</th>\n",
              "      <td>2022.03</td>\n",
              "      <td>33.7</td>\n",
              "      <td>0</td>\n",
              "      <td>Electronic Card Transactions (ANZSIC06) - ECT</td>\n",
              "      <td>Electronic card transactions by mean and propo...</td>\n",
              "      <td>Actual</td>\n",
              "    </tr>\n",
              "    <tr>\n",
              "      <th>19232</th>\n",
              "      <td>2022.06</td>\n",
              "      <td>33.5</td>\n",
              "      <td>0</td>\n",
              "      <td>Electronic Card Transactions (ANZSIC06) - ECT</td>\n",
              "      <td>Electronic card transactions by mean and propo...</td>\n",
              "      <td>Actual</td>\n",
              "    </tr>\n",
              "    <tr>\n",
              "      <th>19233</th>\n",
              "      <td>2022.09</td>\n",
              "      <td>33.2</td>\n",
              "      <td>0</td>\n",
              "      <td>Electronic Card Transactions (ANZSIC06) - ECT</td>\n",
              "      <td>Electronic card transactions by mean and propo...</td>\n",
              "      <td>Actual</td>\n",
              "    </tr>\n",
              "    <tr>\n",
              "      <th>19234</th>\n",
              "      <td>2022.12</td>\n",
              "      <td>32.7</td>\n",
              "      <td>0</td>\n",
              "      <td>Electronic Card Transactions (ANZSIC06) - ECT</td>\n",
              "      <td>Electronic card transactions by mean and propo...</td>\n",
              "      <td>Actual</td>\n",
              "    </tr>\n",
              "  </tbody>\n",
              "</table>\n",
              "<p>19235 rows × 6 columns</p>\n",
              "</div>\n",
              "      <button class=\"colab-df-convert\" onclick=\"convertToInteractive('df-311e2138-f4fc-4d7c-8f53-d9bae6710480')\"\n",
              "              title=\"Convert this dataframe to an interactive table.\"\n",
              "              style=\"display:none;\">\n",
              "        \n",
              "  <svg xmlns=\"http://www.w3.org/2000/svg\" height=\"24px\"viewBox=\"0 0 24 24\"\n",
              "       width=\"24px\">\n",
              "    <path d=\"M0 0h24v24H0V0z\" fill=\"none\"/>\n",
              "    <path d=\"M18.56 5.44l.94 2.06.94-2.06 2.06-.94-2.06-.94-.94-2.06-.94 2.06-2.06.94zm-11 1L8.5 8.5l.94-2.06 2.06-.94-2.06-.94L8.5 2.5l-.94 2.06-2.06.94zm10 10l.94 2.06.94-2.06 2.06-.94-2.06-.94-.94-2.06-.94 2.06-2.06.94z\"/><path d=\"M17.41 7.96l-1.37-1.37c-.4-.4-.92-.59-1.43-.59-.52 0-1.04.2-1.43.59L10.3 9.45l-7.72 7.72c-.78.78-.78 2.05 0 2.83L4 21.41c.39.39.9.59 1.41.59.51 0 1.02-.2 1.41-.59l7.78-7.78 2.81-2.81c.8-.78.8-2.07 0-2.86zM5.41 20L4 18.59l7.72-7.72 1.47 1.35L5.41 20z\"/>\n",
              "  </svg>\n",
              "      </button>\n",
              "      \n",
              "  <style>\n",
              "    .colab-df-container {\n",
              "      display:flex;\n",
              "      flex-wrap:wrap;\n",
              "      gap: 12px;\n",
              "    }\n",
              "\n",
              "    .colab-df-convert {\n",
              "      background-color: #E8F0FE;\n",
              "      border: none;\n",
              "      border-radius: 50%;\n",
              "      cursor: pointer;\n",
              "      display: none;\n",
              "      fill: #1967D2;\n",
              "      height: 32px;\n",
              "      padding: 0 0 0 0;\n",
              "      width: 32px;\n",
              "    }\n",
              "\n",
              "    .colab-df-convert:hover {\n",
              "      background-color: #E2EBFA;\n",
              "      box-shadow: 0px 1px 2px rgba(60, 64, 67, 0.3), 0px 1px 3px 1px rgba(60, 64, 67, 0.15);\n",
              "      fill: #174EA6;\n",
              "    }\n",
              "\n",
              "    [theme=dark] .colab-df-convert {\n",
              "      background-color: #3B4455;\n",
              "      fill: #D2E3FC;\n",
              "    }\n",
              "\n",
              "    [theme=dark] .colab-df-convert:hover {\n",
              "      background-color: #434B5C;\n",
              "      box-shadow: 0px 1px 3px 1px rgba(0, 0, 0, 0.15);\n",
              "      filter: drop-shadow(0px 1px 2px rgba(0, 0, 0, 0.3));\n",
              "      fill: #FFFFFF;\n",
              "    }\n",
              "  </style>\n",
              "\n",
              "      <script>\n",
              "        const buttonEl =\n",
              "          document.querySelector('#df-311e2138-f4fc-4d7c-8f53-d9bae6710480 button.colab-df-convert');\n",
              "        buttonEl.style.display =\n",
              "          google.colab.kernel.accessAllowed ? 'block' : 'none';\n",
              "\n",
              "        async function convertToInteractive(key) {\n",
              "          const element = document.querySelector('#df-311e2138-f4fc-4d7c-8f53-d9bae6710480');\n",
              "          const dataTable =\n",
              "            await google.colab.kernel.invokeFunction('convertToInteractive',\n",
              "                                                     [key], {});\n",
              "          if (!dataTable) return;\n",
              "\n",
              "          const docLinkHtml = 'Like what you see? Visit the ' +\n",
              "            '<a target=\"_blank\" href=https://colab.research.google.com/notebooks/data_table.ipynb>data table notebook</a>'\n",
              "            + ' to learn more about interactive tables.';\n",
              "          element.innerHTML = '';\n",
              "          dataTable['output_type'] = 'display_data';\n",
              "          await google.colab.output.renderOutput(dataTable, element);\n",
              "          const docLink = document.createElement('div');\n",
              "          docLink.innerHTML = docLinkHtml;\n",
              "          element.appendChild(docLink);\n",
              "        }\n",
              "      </script>\n",
              "    </div>\n",
              "  </div>\n",
              "  "
            ]
          },
          "metadata": {},
          "execution_count": 15
        }
      ],
      "source": [
        "df"
      ]
    },
    {
      "cell_type": "code",
      "execution_count": 16,
      "id": "smoking-strain",
      "metadata": {
        "id": "smoking-strain"
      },
      "outputs": [],
      "source": [
        "df.to_csv(r'test_data.csv', sep = '|', index=False) "
      ]
    },
    {
      "cell_type": "code",
      "execution_count": 17,
      "id": "marked-slovenia",
      "metadata": {
        "colab": {
          "base_uri": "https://localhost:8080/",
          "height": 258
        },
        "id": "marked-slovenia",
        "outputId": "cee18d11-896d-4706-cb78-105fd4130a08"
      },
      "outputs": [
        {
          "output_type": "stream",
          "name": "stderr",
          "text": [
            "/usr/local/lib/python3.8/dist-packages/IPython/core/interactiveshell.py:3326: FutureWarning: In a future version of pandas all arguments of read_csv except for the argument 'filepath_or_buffer' will be keyword-only\n",
            "  exec(code_obj, self.user_global_ns, self.user_ns)\n"
          ]
        },
        {
          "output_type": "execute_result",
          "data": {
            "text/plain": [
              "          period|data|magnitude|subject|group|series\n",
              "0  2001.03|2462.5|6|Electronic Card Transactions ...\n",
              "1  2002.03|17177.2|6|Electronic Card Transactions...\n",
              "2  2003.03|22530.5|6|Electronic Card Transactions...\n",
              "3  2004.03|28005.1|6|Electronic Card Transactions...\n",
              "4  2005.03|30629.6|6|Electronic Card Transactions..."
            ],
            "text/html": [
              "\n",
              "  <div id=\"df-58892c8a-9894-4062-bf21-407f887aeae5\">\n",
              "    <div class=\"colab-df-container\">\n",
              "      <div>\n",
              "<style scoped>\n",
              "    .dataframe tbody tr th:only-of-type {\n",
              "        vertical-align: middle;\n",
              "    }\n",
              "\n",
              "    .dataframe tbody tr th {\n",
              "        vertical-align: top;\n",
              "    }\n",
              "\n",
              "    .dataframe thead th {\n",
              "        text-align: right;\n",
              "    }\n",
              "</style>\n",
              "<table border=\"1\" class=\"dataframe\">\n",
              "  <thead>\n",
              "    <tr style=\"text-align: right;\">\n",
              "      <th></th>\n",
              "      <th>period|data|magnitude|subject|group|series</th>\n",
              "    </tr>\n",
              "  </thead>\n",
              "  <tbody>\n",
              "    <tr>\n",
              "      <th>0</th>\n",
              "      <td>2001.03|2462.5|6|Electronic Card Transactions ...</td>\n",
              "    </tr>\n",
              "    <tr>\n",
              "      <th>1</th>\n",
              "      <td>2002.03|17177.2|6|Electronic Card Transactions...</td>\n",
              "    </tr>\n",
              "    <tr>\n",
              "      <th>2</th>\n",
              "      <td>2003.03|22530.5|6|Electronic Card Transactions...</td>\n",
              "    </tr>\n",
              "    <tr>\n",
              "      <th>3</th>\n",
              "      <td>2004.03|28005.1|6|Electronic Card Transactions...</td>\n",
              "    </tr>\n",
              "    <tr>\n",
              "      <th>4</th>\n",
              "      <td>2005.03|30629.6|6|Electronic Card Transactions...</td>\n",
              "    </tr>\n",
              "  </tbody>\n",
              "</table>\n",
              "</div>\n",
              "      <button class=\"colab-df-convert\" onclick=\"convertToInteractive('df-58892c8a-9894-4062-bf21-407f887aeae5')\"\n",
              "              title=\"Convert this dataframe to an interactive table.\"\n",
              "              style=\"display:none;\">\n",
              "        \n",
              "  <svg xmlns=\"http://www.w3.org/2000/svg\" height=\"24px\"viewBox=\"0 0 24 24\"\n",
              "       width=\"24px\">\n",
              "    <path d=\"M0 0h24v24H0V0z\" fill=\"none\"/>\n",
              "    <path d=\"M18.56 5.44l.94 2.06.94-2.06 2.06-.94-2.06-.94-.94-2.06-.94 2.06-2.06.94zm-11 1L8.5 8.5l.94-2.06 2.06-.94-2.06-.94L8.5 2.5l-.94 2.06-2.06.94zm10 10l.94 2.06.94-2.06 2.06-.94-2.06-.94-.94-2.06-.94 2.06-2.06.94z\"/><path d=\"M17.41 7.96l-1.37-1.37c-.4-.4-.92-.59-1.43-.59-.52 0-1.04.2-1.43.59L10.3 9.45l-7.72 7.72c-.78.78-.78 2.05 0 2.83L4 21.41c.39.39.9.59 1.41.59.51 0 1.02-.2 1.41-.59l7.78-7.78 2.81-2.81c.8-.78.8-2.07 0-2.86zM5.41 20L4 18.59l7.72-7.72 1.47 1.35L5.41 20z\"/>\n",
              "  </svg>\n",
              "      </button>\n",
              "      \n",
              "  <style>\n",
              "    .colab-df-container {\n",
              "      display:flex;\n",
              "      flex-wrap:wrap;\n",
              "      gap: 12px;\n",
              "    }\n",
              "\n",
              "    .colab-df-convert {\n",
              "      background-color: #E8F0FE;\n",
              "      border: none;\n",
              "      border-radius: 50%;\n",
              "      cursor: pointer;\n",
              "      display: none;\n",
              "      fill: #1967D2;\n",
              "      height: 32px;\n",
              "      padding: 0 0 0 0;\n",
              "      width: 32px;\n",
              "    }\n",
              "\n",
              "    .colab-df-convert:hover {\n",
              "      background-color: #E2EBFA;\n",
              "      box-shadow: 0px 1px 2px rgba(60, 64, 67, 0.3), 0px 1px 3px 1px rgba(60, 64, 67, 0.15);\n",
              "      fill: #174EA6;\n",
              "    }\n",
              "\n",
              "    [theme=dark] .colab-df-convert {\n",
              "      background-color: #3B4455;\n",
              "      fill: #D2E3FC;\n",
              "    }\n",
              "\n",
              "    [theme=dark] .colab-df-convert:hover {\n",
              "      background-color: #434B5C;\n",
              "      box-shadow: 0px 1px 3px 1px rgba(0, 0, 0, 0.15);\n",
              "      filter: drop-shadow(0px 1px 2px rgba(0, 0, 0, 0.3));\n",
              "      fill: #FFFFFF;\n",
              "    }\n",
              "  </style>\n",
              "\n",
              "      <script>\n",
              "        const buttonEl =\n",
              "          document.querySelector('#df-58892c8a-9894-4062-bf21-407f887aeae5 button.colab-df-convert');\n",
              "        buttonEl.style.display =\n",
              "          google.colab.kernel.accessAllowed ? 'block' : 'none';\n",
              "\n",
              "        async function convertToInteractive(key) {\n",
              "          const element = document.querySelector('#df-58892c8a-9894-4062-bf21-407f887aeae5');\n",
              "          const dataTable =\n",
              "            await google.colab.kernel.invokeFunction('convertToInteractive',\n",
              "                                                     [key], {});\n",
              "          if (!dataTable) return;\n",
              "\n",
              "          const docLinkHtml = 'Like what you see? Visit the ' +\n",
              "            '<a target=\"_blank\" href=https://colab.research.google.com/notebooks/data_table.ipynb>data table notebook</a>'\n",
              "            + ' to learn more about interactive tables.';\n",
              "          element.innerHTML = '';\n",
              "          dataTable['output_type'] = 'display_data';\n",
              "          await google.colab.output.renderOutput(dataTable, element);\n",
              "          const docLink = document.createElement('div');\n",
              "          docLink.innerHTML = docLinkHtml;\n",
              "          element.appendChild(docLink);\n",
              "        }\n",
              "      </script>\n",
              "    </div>\n",
              "  </div>\n",
              "  "
            ]
          },
          "metadata": {},
          "execution_count": 17
        }
      ],
      "source": [
        "df = pd.read_csv(source_file,config_data['inbound_delimiter'])\n",
        "df.head()"
      ]
    },
    {
      "cell_type": "code",
      "execution_count": 18,
      "id": "better-boulder",
      "metadata": {
        "colab": {
          "base_uri": "https://localhost:8080/"
        },
        "id": "better-boulder",
        "outputId": "747e88f6-a7f0-4b73-f511-bbaebae4aff5"
      },
      "outputs": [
        {
          "output_type": "execute_result",
          "data": {
            "text/plain": [
              "(19235, 1)"
            ]
          },
          "metadata": {},
          "execution_count": 18
        }
      ],
      "source": [
        "df.shape"
      ]
    },
    {
      "cell_type": "code",
      "execution_count": 19,
      "id": "distant-patent",
      "metadata": {
        "colab": {
          "base_uri": "https://localhost:8080/"
        },
        "id": "distant-patent",
        "outputId": "0c79fe52-fc2a-41f6-aafd-1ac6c77dd080"
      },
      "outputs": [
        {
          "output_type": "stream",
          "name": "stdout",
          "text": [
            "<class 'pandas.core.frame.DataFrame'>\n",
            "RangeIndex: 19235 entries, 0 to 19234\n",
            "Data columns (total 1 columns):\n",
            " #   Column                                      Non-Null Count  Dtype \n",
            "---  ------                                      --------------  ----- \n",
            " 0   period|data|magnitude|subject|group|series  19235 non-null  object\n",
            "dtypes: object(1)\n",
            "memory usage: 150.4+ KB\n"
          ]
        }
      ],
      "source": [
        "df.info()\n"
      ]
    }
  ],
  "metadata": {
    "environment": {
      "name": "tf2-gpu.2-1.m65",
      "type": "gcloud",
      "uri": "gcr.io/deeplearning-platform-release/tf2-gpu.2-1:m65"
    },
    "kernelspec": {
      "display_name": "Python 3",
      "language": "python",
      "name": "python3"
    },
    "language_info": {
      "codemirror_mode": {
        "name": "ipython",
        "version": 3
      },
      "file_extension": ".py",
      "mimetype": "text/x-python",
      "name": "python",
      "nbconvert_exporter": "python",
      "pygments_lexer": "ipython3",
      "version": "3.7.10"
    },
    "colab": {
      "provenance": []
    }
  },
  "nbformat": 4,
  "nbformat_minor": 5
}